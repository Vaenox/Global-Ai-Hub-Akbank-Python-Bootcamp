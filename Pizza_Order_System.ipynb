{
  "nbformat": 4,
  "nbformat_minor": 0,
  "metadata": {
    "colab": {
      "provenance": []
    },
    "kernelspec": {
      "name": "python3",
      "display_name": "Python 3"
    },
    "language_info": {
      "name": "python"
    }
  },
  "cells": [
    {
      "cell_type": "code",
      "execution_count": 2,
      "metadata": {
        "id": "VHFyFpbeg1cz"
      },
      "outputs": [],
      "source": [
        "import csv\n",
        "import datetime\n",
        "import pandas as pd"
      ]
    },
    {
      "cell_type": "code",
      "source": [
        "class Pizza():\n",
        "  def get_description(self):\n",
        "    return self.desc\n",
        "\n",
        "  def get_cost(self):\n",
        "    return self.cost"
      ],
      "metadata": {
        "id": "JTjFNJwuhpZc"
      },
      "execution_count": 3,
      "outputs": []
    },
    {
      "cell_type": "code",
      "source": [
        "class Klasik(Pizza):\n",
        "    def __init__(self):\n",
        "        self.cost=55\n",
        "        self.desc=\"Domates ve peynirin muhteşem uyumu ile hazırlanan pizza.\"\n",
        "\n",
        "class Margarita(Pizza):\n",
        "    def __init__(self):\n",
        "        self.cost=70\n",
        "        self.desc=\"3 çeşit farklı peynirle hazırlanmış ağızlara layık bir pizza.\"\n",
        "\n",
        "class TurkPizza(Pizza):\n",
        "    def __init__(self):\n",
        "        self.cost=62\n",
        "        self.desc=\"Dana eti,kavurma,pastırma,özel türk sosu ve kaşar peyniriyle tam bir Türk işi pizza.  \"\n",
        "    \n",
        "class SadePizza(Pizza):\n",
        "    def __init__(self):\n",
        "        self.cost=48\n",
        "        self.desc=\"Pizza sosu,sucuk ve kaşar peyniriyle hazırlanmış bir pizza. \""
      ],
      "metadata": {
        "id": "DfKSEQj3h5zK"
      },
      "execution_count": 4,
      "outputs": []
    },
    {
      "cell_type": "code",
      "source": [
        "class Sauce():\n",
        "  def get_cost(self):\n",
        "    return self.cost\n",
        "\n",
        "  def get_description(self):\n",
        "    return self.desc"
      ],
      "metadata": {
        "id": "GOZnBR0XXnkJ"
      },
      "execution_count": 5,
      "outputs": []
    },
    {
      "cell_type": "code",
      "source": [
        "class Zeytin(Sauce):\n",
        "    def __init__(self):\n",
        "        self.cost=4\n",
        "        self.desc=\"Ekstra zeytin sevenlere.\"\n",
        "\n",
        "class Mantar(Sauce):\n",
        "    def __init__(self):\n",
        "        self.cost=10\n",
        "        self.desc=\"Mantar sevenler için ilave mantar.\"\n",
        "\n",
        "class KeciPeyniri(Sauce):\n",
        "    def __init__(self):\n",
        "        self.cost=12\n",
        "        self.desc=\"Keçi peyniri sevenler için ilave keçi peyniri.\"\n",
        "\n",
        "class Et(Sauce):\n",
        "    def __init__(self):\n",
        "        self.cost=20\n",
        "        self.desc=\"Ete doyamayanlara ilave et.\"\n",
        "\n",
        "class Sogan(Sauce):\n",
        "    def __init__(self):\n",
        "        self.cost=6\n",
        "        self.desc=\"Soğansız pizza olmaz diyenler için ilave soğan.\"\n",
        "\n",
        "class Misir(Sauce):\n",
        "    def __init__(self):\n",
        "        self.cost=8\n",
        "        self.desc=\"Mısırsız yapamam diyenler için ilave mısır.\""
      ],
      "metadata": {
        "id": "OjBwU407h_Ne"
      },
      "execution_count": 6,
      "outputs": []
    },
    {
      "cell_type": "code",
      "source": [
        "class Decorator():\n",
        "    def __init__(self, pizza, sauce):\n",
        "      self.pizza = pizza\n",
        "      self.sauce = sauce\n",
        "\n",
        "    def get_cost(self):\n",
        "      return self.pizza.get_cost() + self.sauce.get_cost()\n",
        "    \n",
        "    def get_description(self):\n",
        "      return self.pizza.get_description() + self.sauce.get_description()"
      ],
      "metadata": {
        "id": "em2UhVHZiL-t"
      },
      "execution_count": 7,
      "outputs": []
    },
    {
      "cell_type": "code",
      "source": [
        "def siparis():\n",
        "  \n",
        "  global c\n",
        "  global list1\n",
        "  global list2\n",
        "  \n",
        "  \n",
        "  c = 0\n",
        "  list1 = []\n",
        "  list2 = []\n",
        "  \n",
        "  dongu=True\n",
        "  while dongu:\n",
        "    Pizza=open(\"menu.txt\",\"r\")\n",
        "    pread=Pizza.read()\n",
        "    print(pread,\"\\n\")\n",
        "    pizzatype=int(input(\"Sipariş etmek istediğiniz pizzayı seçiniz: \"))\n",
        "      \n",
        "    if pizzatype==1:\n",
        "      pizzatype=\"Klasik\"\n",
        "      pizzatur=Klasik()\n",
        "          \n",
        "    elif pizzatype==2:\n",
        "      pizzatype=\"Margarita\"\n",
        "      pizzatur=Margarita()\n",
        "          \n",
        "    elif pizzatype==3:\n",
        "      pizzatype=\"Türk Pizza\"\n",
        "      pizzatur=TurkPizza()\n",
        "                \n",
        "    elif pizzatype==4:\n",
        "      pizzatype=\"Sade Pizza\"\n",
        "      pizzatur=SadePizza()\n",
        "                \n",
        "    pizzaSos=int(input(\"Pizzanıza ekleyeceğiniz sosu seçiniz: \"))\n",
        "\n",
        "    if pizzaSos==11:\n",
        "      pizzaSos=\"Zeytin\"\n",
        "      sos=Zeytin()\n",
        "            \n",
        "    elif pizzaSos==12:\n",
        "      pizzaSos=\"Mantarlar\"\n",
        "      sos=Mantar()\n",
        "            \n",
        "    elif pizzaSos==13:\n",
        "      pizzaSos=\"Keçi Peyniri\"\n",
        "      sos=KeciPeyniri()\n",
        "            \n",
        "    elif pizzaSos==14:\n",
        "      pizzaSos=\"Et\"\n",
        "      sos=Et()\n",
        "            \n",
        "    elif pizzaSos==15:\n",
        "      pizzaSos=\"Soğan\"\n",
        "      sos=Sogan()\n",
        "            \n",
        "    elif pizzaSos==16:\n",
        "      pizzaSos=\"Mısır\"\n",
        "      sos=Misir()\n",
        "\n",
        "    order=Decorator(pizzatur,sos)   \n",
        "\n",
        "    print(\"Seçtiğiniz Pizza: {0}\\nSeçtiğiniz Sos: {1}\\nTutar: {2} TL\".format(pizzatype,pizzaSos,order.get_cost()),\"\\n\")\n",
        "\n",
        "    c += order.get_cost()\n",
        "    list1.append(order.get_description()) \n",
        "    list2.append([pizzatype,pizzaSos])\n",
        "    while True:\n",
        "      secim=input(\"-Pizza eklemek istiyorsanız 'e' giriniz.\\n-Pizza eklemek istemiyorsanız 'h' giriniz.\\n\\nSeçiminiz: \")\n",
        "      if secim==\"e\":\n",
        "        break\n",
        "      elif secim==\"h\":\n",
        "        dongu=False\n",
        "      \n",
        "\n",
        "        global musteriIsim\n",
        "        global musteriSoyadi\n",
        "        global musteriTC\n",
        "        global kartNo\n",
        "        global kartSifre\n",
        "        musteriIsim=input(\"\\nİsminizi Girin: \")\n",
        "        musteriSoyadi=input(\"Soyadınızı Girin: \")\n",
        "        musteriTC=input(\"TC Numaranızı Girin: \")\n",
        "        kartNo=input(\"Kart No Girin: \")\n",
        "        kartSifre=input(\"Kart Şifre Girin: \")\n",
        "\n",
        "        \n",
        "        \n",
        "        with open('Orders_Database.csv','a',newline='') as file:\n",
        "          musteri = csv.writer(file)\n",
        "          #musteri.writerow((\"Musteri Adi\", \"Musteri Soyadi\",\"Musteri TC No\",\"Siparişiniz\",\"Siparis Aciklamasi\",\"Ödenecek Tutar\",\"Siparis Zamani\",\"Musteri Kart No\",\"Musteri Kart Sifre\"))\n",
        "          musteri.writerow((musteriIsim, musteriSoyadi, musteriTC, list2, list1, \"{0} TL\".format(c), datetime.datetime.now(), kartNo, kartSifre))\n",
        "        print(\"\\nSayın {0} {1}; Siparişiniz Alınmıştır. Ödenecek Tutar: {2} TL. Pizzanızın Size Ulaşması 35-70 dakika arasıdır. Bizi tercih ettiğiniz için teşekkür ederiz.\".format(musteriIsim,musteriSoyadi,c))\n",
        "        break\n",
        "      else:\n",
        "        print(\"UYARI: Lütfen e veya h tuşlarından birini kullanın.\\n\\n\\n\")\n",
        "\n"
      ],
      "metadata": {
        "id": "kEd9ngXgiQ7n"
      },
      "execution_count": 10,
      "outputs": []
    },
    {
      "cell_type": "code",
      "source": [
        "siparis()"
      ],
      "metadata": {
        "id": "jW6RjGVriXm8"
      },
      "execution_count": null,
      "outputs": []
    },
    {
      "cell_type": "code",
      "source": [
        "pd.read_csv(\"Orders_Database.csv\",sep=\",\")"
      ],
      "metadata": {
        "id": "5Sh1JkxSuXlY"
      },
      "execution_count": null,
      "outputs": []
    }
  ]
}